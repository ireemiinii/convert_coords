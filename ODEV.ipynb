{
 "cells": [
  {
   "cell_type": "code",
   "execution_count": 4,
   "metadata": {},
   "outputs": [],
   "source": [
    "import os\n",
    "from osgeo import gdal"
   ]
  },
  {
   "cell_type": "code",
   "execution_count": 5,
   "metadata": {},
   "outputs": [],
   "source": [
    "PATH = r'C:\\Users\\İrem\\Desktop\\2dönem\\S2A_MSIL1C_20190227T113311_N0207_R080_T30UVG_20190227T133051.SAFE\\GRANULE\\L1C_T30UVG_A019239_20190227T113314\\IMG_DATA'\n",
    "os.chdir(PATH)"
   ]
  },
  {
   "cell_type": "code",
   "execution_count": 6,
   "metadata": {},
   "outputs": [
    {
     "name": "stdout",
     "output_type": "stream",
     "text": [
      " Volume in drive C has no label.\n",
      " Volume Serial Number is 4639-2019\n",
      "\n",
      " Directory of C:\\Users\\˜rem\\Desktop\\2d”nem\\S2A_MSIL1C_20190227T113311_N0207_R080_T30UVG_20190227T133051.SAFE\\GRANULE\\L1C_T30UVG_A019239_20190227T113314\\IMG_DATA\n",
      "\n",
      "03.04.2020  12:40    <DIR>          .\n",
      "03.04.2020  12:40    <DIR>          ..\n",
      "02.04.2020  20:29       723,450,624 lab1_d.tif\n",
      "27.02.2019  12:51         3,540,155 T30UVG_20190227T113311_B01.jp2\n",
      "27.02.2019  12:52       101,833,058 T30UVG_20190227T113311_B02.jp2\n",
      "27.02.2019  12:52       106,251,275 T30UVG_20190227T113311_B03.jp2\n",
      "02.04.2020  22:08             3,132 T30UVG_20190227T113311_B03.jp2.aux.xml\n",
      "27.02.2019  12:52       111,786,579 T30UVG_20190227T113311_B04.jp2\n",
      "02.04.2020  22:08             3,130 T30UVG_20190227T113311_B04.jp2.aux.xml\n",
      "27.02.2019  12:51        33,596,702 T30UVG_20190227T113311_B05.jp2\n",
      "27.02.2019  12:51        33,720,880 T30UVG_20190227T113311_B06.jp2\n",
      "27.02.2019  12:51        33,911,415 T30UVG_20190227T113311_B07.jp2\n",
      "27.02.2019  12:53       135,241,867 T30UVG_20190227T113311_B08.jp2\n",
      "27.02.2019  12:51         3,769,313 T30UVG_20190227T113311_B09.jp2\n",
      "27.02.2019  12:51         2,216,024 T30UVG_20190227T113311_B10.jp2\n",
      "27.02.2019  12:51        33,729,685 T30UVG_20190227T113311_B11.jp2\n",
      "27.02.2019  12:51        33,377,949 T30UVG_20190227T113311_B12.jp2\n",
      "27.02.2019  12:51        33,728,007 T30UVG_20190227T113311_B8A.jp2\n",
      "27.02.2019  12:53       135,235,360 T30UVG_20190227T113311_TCI.jp2\n",
      "              17 File(s)  1,525,395,155 bytes\n",
      "               2 Dir(s)  36,777,816,064 bytes free\n"
     ]
    }
   ],
   "source": [
    "!dir"
   ]
  },
  {
   "cell_type": "code",
   "execution_count": 7,
   "metadata": {},
   "outputs": [],
   "source": [
    "red_band_ = gdal.Open(\"T30UVG_20190227T113311_B04.jp2\")\n",
    "green_band_ = gdal.Open(\"T30UVG_20190227T113311_B03.jp2\")\n",
    "blue_band_ = gdal.Open(\"T30UVG_20190227T113311_B02.jp2\")"
   ]
  },
  {
   "cell_type": "code",
   "execution_count": 8,
   "metadata": {},
   "outputs": [
    {
     "data": {
      "text/plain": [
       "'PROJCS[\"WGS 84 / UTM zone 30N\",GEOGCS[\"WGS 84\",DATUM[\"WGS_1984\",SPHEROID[\"WGS 84\",6378137,298.257223563,AUTHORITY[\"EPSG\",\"7030\"]],AUTHORITY[\"EPSG\",\"6326\"]],PRIMEM[\"Greenwich\",0,AUTHORITY[\"EPSG\",\"8901\"]],UNIT[\"degree\",0.0174532925199433,AUTHORITY[\"EPSG\",\"9122\"]],AUTHORITY[\"EPSG\",\"4326\"]],PROJECTION[\"Transverse_Mercator\"],PARAMETER[\"latitude_of_origin\",0],PARAMETER[\"central_meridian\",-3],PARAMETER[\"scale_factor\",0.9996],PARAMETER[\"false_easting\",500000],PARAMETER[\"false_northing\",0],UNIT[\"metre\",1,AUTHORITY[\"EPSG\",\"9001\"]],AXIS[\"Easting\",EAST],AXIS[\"Northing\",NORTH],AUTHORITY[\"EPSG\",\"32630\"]]'"
      ]
     },
     "execution_count": 8,
     "metadata": {},
     "output_type": "execute_result"
    }
   ],
   "source": [
    "red_band_.GetProjection()"
   ]
  },
  {
   "cell_type": "code",
   "execution_count": 9,
   "metadata": {},
   "outputs": [
    {
     "name": "stdout",
     "output_type": "stream",
     "text": [
      "Upper Left Corner (origin) x: 399960.0\n",
      "Upper Left Corner (origin) y: 6200040.0\n",
      "Pixel Width: 10.0\n",
      "Pixel Height: -10.0\n"
     ]
    },
    {
     "data": {
      "text/plain": [
       "(0.0, 0.0)"
      ]
     },
     "execution_count": 9,
     "metadata": {},
     "output_type": "execute_result"
    }
   ],
   "source": [
    "geo_transform_params = red_band_.GetGeoTransform()\n",
    "print('Upper Left Corner (origin) x:', geo_transform_params[0])\n",
    "print('Upper Left Corner (origin) y:', geo_transform_params[3])\n",
    "print('Pixel Width:', geo_transform_params[1])\n",
    "print('Pixel Height:', geo_transform_params[5])\n",
    "geo_transform_params[2], geo_transform_params[4]"
   ]
  },
  {
   "cell_type": "code",
   "execution_count": 10,
   "metadata": {},
   "outputs": [
    {
     "data": {
      "text/plain": [
       "(406850.0, 6165480.0)"
      ]
     },
     "execution_count": 10,
     "metadata": {},
     "output_type": "execute_result"
    }
   ],
   "source": [
    "def pixel2world(x, y):\n",
    "    upper_left_x = geo_transform_params[0]\n",
    "    upper_left_y = geo_transform_params[3]\n",
    "    pixel_width = geo_transform_params[1]\n",
    "    pixel_height = geo_transform_params[5]\n",
    "\n",
    "    x_coord = (upper_left_x + (x * pixel_width)) \n",
    "    y_coord = (upper_left_y + (y * pixel_height))\n",
    "\n",
    "    return (x_coord,y_coord)\n",
    "\n",
    "pixel2world(689,3456)"
   ]
  },
  {
   "cell_type": "code",
   "execution_count": 13,
   "metadata": {},
   "outputs": [
    {
     "data": {
      "text/plain": [
       "(0.0, -0.0)"
      ]
     },
     "execution_count": 13,
     "metadata": {},
     "output_type": "execute_result"
    }
   ],
   "source": [
    "def worldtopixel(x_coord,y_coord):\n",
    "\n",
    "    upper_left_x = geo_transform_params[0]\n",
    "    upper_left_y = geo_transform_params[3]\n",
    "    pixel_width = geo_transform_params[1]\n",
    "    pixel_height = geo_transform_params[5]\n",
    "\n",
    "    pixel = ((x_coord - upper_left_x) / pixel_width)\n",
    "    line = ((y_coord - upper_left_y) / pixel_height)\n",
    "\n",
    "    return (pixel,line)\n",
    "\n",
    "worldtopixel(399960.0, 6200040.0)"
   ]
  },
  {
   "cell_type": "code",
   "execution_count": 14,
   "metadata": {},
   "outputs": [
    {
     "data": {
      "text/plain": [
       "True"
      ]
     },
     "execution_count": 14,
     "metadata": {},
     "output_type": "execute_result"
    }
   ],
   "source": [
    "red_band_.RasterXSize == green_band_.RasterXSize == blue_band_.RasterXSize "
   ]
  },
  {
   "cell_type": "code",
   "execution_count": 15,
   "metadata": {},
   "outputs": [
    {
     "data": {
      "text/plain": [
       "(10980, 10980)"
      ]
     },
     "execution_count": 15,
     "metadata": {},
     "output_type": "execute_result"
    }
   ],
   "source": [
    "red_band_.RasterXSize, red_band_.RasterYSize"
   ]
  },
  {
   "cell_type": "code",
   "execution_count": 16,
   "metadata": {},
   "outputs": [
    {
     "data": {
      "text/plain": [
       "1"
      ]
     },
     "execution_count": 16,
     "metadata": {},
     "output_type": "execute_result"
    }
   ],
   "source": [
    "red_band_.RasterCount"
   ]
  },
  {
   "cell_type": "code",
   "execution_count": 17,
   "metadata": {},
   "outputs": [
    {
     "data": {
      "text/plain": [
       "{'COLORSPACE': 'GREYSCALE', 'COMPRESSION_RATE_TARGET': '2'}"
      ]
     },
     "execution_count": 17,
     "metadata": {},
     "output_type": "execute_result"
    }
   ],
   "source": [
    "red_band_.GetMetadata()"
   ]
  },
  {
   "cell_type": "code",
   "execution_count": 18,
   "metadata": {},
   "outputs": [
    {
     "data": {
      "text/plain": [
       "osgeo.gdal.Band"
      ]
     },
     "execution_count": 18,
     "metadata": {},
     "output_type": "execute_result"
    }
   ],
   "source": [
    "in_red_band_ = red_band_.GetRasterBand(1)\n",
    "in_green_band_ = green_band_.GetRasterBand(1)\n",
    "in_blue_band_ = blue_band_.GetRasterBand(1)\n",
    "type(in_red_band_)"
   ]
  },
  {
   "cell_type": "code",
   "execution_count": 19,
   "metadata": {},
   "outputs": [
    {
     "data": {
      "text/plain": [
       "osgeo.gdal.Dataset"
      ]
     },
     "execution_count": 19,
     "metadata": {},
     "output_type": "execute_result"
    }
   ],
   "source": [
    "type(red_band_)"
   ]
  },
  {
   "cell_type": "code",
   "execution_count": 20,
   "metadata": {},
   "outputs": [
    {
     "data": {
      "text/plain": [
       "'UInt16'"
      ]
     },
     "execution_count": 20,
     "metadata": {},
     "output_type": "execute_result"
    }
   ],
   "source": [
    "gdal.GetDataTypeName(in_red_band_.DataType)"
   ]
  },
  {
   "cell_type": "code",
   "execution_count": 21,
   "metadata": {},
   "outputs": [
    {
     "data": {
      "text/plain": [
       "4541.0"
      ]
     },
     "execution_count": 21,
     "metadata": {},
     "output_type": "execute_result"
    }
   ],
   "source": [
    "in_green_band_.GetMaximum()"
   ]
  },
  {
   "cell_type": "code",
   "execution_count": 22,
   "metadata": {},
   "outputs": [
    {
     "data": {
      "text/plain": [
       "[1.0, 27978.0, 1096.9725367948347, 316.9049259721955]"
      ]
     },
     "execution_count": 22,
     "metadata": {},
     "output_type": "execute_result"
    }
   ],
   "source": [
    "in_green_band_.ComputeStatistics(0)"
   ]
  },
  {
   "cell_type": "code",
   "execution_count": 23,
   "metadata": {},
   "outputs": [
    {
     "data": {
      "text/plain": [
       "({}, None)"
      ]
     },
     "execution_count": 23,
     "metadata": {},
     "output_type": "execute_result"
    }
   ],
   "source": [
    "in_blue_band_.GetMetadata(), in_blue_band_.GetMaximum()\n"
   ]
  },
  {
   "cell_type": "code",
   "execution_count": 24,
   "metadata": {},
   "outputs": [
    {
     "data": {
      "text/plain": [
       "({'STATISTICS_MAXIMUM': '27978',\n",
       "  'STATISTICS_MEAN': '1096.9725367948',\n",
       "  'STATISTICS_MINIMUM': '1',\n",
       "  'STATISTICS_STDDEV': '316.9049259722',\n",
       "  'STATISTICS_VALID_PERCENT': '100'},\n",
       " 27978.0)"
      ]
     },
     "execution_count": 24,
     "metadata": {},
     "output_type": "execute_result"
    }
   ],
   "source": [
    "in_green_band_.GetMetadata(), in_green_band_.GetMaximum()"
   ]
  },
  {
   "cell_type": "code",
   "execution_count": 25,
   "metadata": {},
   "outputs": [
    {
     "data": {
      "text/plain": [
       "True"
      ]
     },
     "execution_count": 25,
     "metadata": {},
     "output_type": "execute_result"
    }
   ],
   "source": [
    "in_green_band_.GetNoDataValue() == None"
   ]
  },
  {
   "cell_type": "code",
   "execution_count": 26,
   "metadata": {},
   "outputs": [],
   "source": [
    "red_band_arr = red_band_.ReadAsArray()"
   ]
  },
  {
   "cell_type": "code",
   "execution_count": 27,
   "metadata": {},
   "outputs": [
    {
     "data": {
      "text/plain": [
       "osgeo.gdal.Dataset"
      ]
     },
     "execution_count": 27,
     "metadata": {},
     "output_type": "execute_result"
    }
   ],
   "source": [
    "type(red_band_)"
   ]
  },
  {
   "cell_type": "code",
   "execution_count": 28,
   "metadata": {},
   "outputs": [
    {
     "data": {
      "text/plain": [
       "numpy.ndarray"
      ]
     },
     "execution_count": 28,
     "metadata": {},
     "output_type": "execute_result"
    }
   ],
   "source": [
    "type(red_band_arr)"
   ]
  },
  {
   "cell_type": "code",
   "execution_count": 29,
   "metadata": {},
   "outputs": [
    {
     "data": {
      "text/plain": [
       "((10980, 10980), dtype('uint16'))"
      ]
     },
     "execution_count": 29,
     "metadata": {},
     "output_type": "execute_result"
    }
   ],
   "source": [
    "red_band_arr.shape,red_band_arr.dtype"
   ]
  },
  {
   "cell_type": "code",
   "execution_count": 30,
   "metadata": {},
   "outputs": [
    {
     "name": "stdout",
     "output_type": "stream",
     "text": [
      "Driver: JP2OpenJPEG/JPEG-2000 driver based on OpenJPEG library\n",
      "Files: T30UVG_20190227T113311_B04.jp2\n",
      "       T30UVG_20190227T113311_B04.jp2.aux.xml\n",
      "Size is 10980, 10980\n",
      "Coordinate System is:\n",
      "PROJCRS[\"WGS 84 / UTM zone 30N\",\n",
      "    BASEGEOGCRS[\"WGS 84\",\n",
      "        DATUM[\"World Geodetic System 1984\",\n",
      "            ELLIPSOID[\"WGS 84\",6378137,298.257223563,\n",
      "                LENGTHUNIT[\"metre\",1]]],\n",
      "        PRIMEM[\"Greenwich\",0,\n",
      "            ANGLEUNIT[\"degree\",0.0174532925199433]],\n",
      "        ID[\"EPSG\",4326]],\n",
      "    CONVERSION[\"UTM zone 30N\",\n",
      "        METHOD[\"Transverse Mercator\",\n",
      "            ID[\"EPSG\",9807]],\n",
      "        PARAMETER[\"Latitude of natural origin\",0,\n",
      "            ANGLEUNIT[\"degree\",0.0174532925199433],\n",
      "            ID[\"EPSG\",8801]],\n",
      "        PARAMETER[\"Longitude of natural origin\",-3,\n",
      "            ANGLEUNIT[\"degree\",0.0174532925199433],\n",
      "            ID[\"EPSG\",8802]],\n",
      "        PARAMETER[\"Scale factor at natural origin\",0.9996,\n",
      "            SCALEUNIT[\"unity\",1],\n",
      "            ID[\"EPSG\",8805]],\n",
      "        PARAMETER[\"False easting\",500000,\n",
      "            LENGTHUNIT[\"metre\",1],\n",
      "            ID[\"EPSG\",8806]],\n",
      "        PARAMETER[\"False northing\",0,\n",
      "            LENGTHUNIT[\"metre\",1],\n",
      "            ID[\"EPSG\",8807]]],\n",
      "    CS[Cartesian,2],\n",
      "        AXIS[\"easting\",east,\n",
      "            ORDER[1],\n",
      "            LENGTHUNIT[\"metre\",1]],\n",
      "        AXIS[\"northing\",north,\n",
      "            ORDER[2],\n",
      "            LENGTHUNIT[\"metre\",1]],\n",
      "    ID[\"EPSG\",32630]]\n",
      "Data axis to CRS axis mapping: 1,2\n",
      "Origin = (399960.000000000000000,6200040.000000000000000)\n",
      "Pixel Size = (10.000000000000000,-10.000000000000000)\n",
      "Metadata:\n",
      "  COLORSPACE=GREYSCALE\n",
      "  COMPRESSION_RATE_TARGET=2\n",
      "Corner Coordinates:\n",
      "Upper Left  (  399960.000, 6200040.000) (  4d36' 5.17\"W, 55d56' 7.18\"N)\n",
      "Lower Left  (  399960.000, 6090240.000) (  4d33'43.13\"W, 54d56'56.64\"N)\n",
      "Upper Right (  509760.000, 6200040.000) (  2d50'37.42\"W, 55d56'44.29\"N)\n",
      "Lower Right (  509760.000, 6090240.000) (  2d50'51.29\"W, 54d57'32.41\"N)\n",
      "Center      (  454860.000, 6145140.000) (  3d42'49.25\"W, 55d27' 1.28\"N)\n",
      "Band 1 Block=1024x1024 Type=UInt16, ColorInterp=Gray\n",
      "  Description = Grayscale\n",
      "  Min=0.000 Max=5211.000 \n",
      "  Minimum=1.000, Maximum=28000.000, Mean=971.468, StdDev=401.842\n",
      "0...10...20...30...40...50...60...70...80...90...100 - done.\n",
      "  256 buckets from -53.9 to 28054.9:\n",
      "  40 15 30 407908 6820330 10446340 14578002 18349098 15722208 13143514 10566340 8412068 6197972 4427854 3127450 2189075 1572249 1139337 835707 603126 453457 358681 288080 224388 172003 131661 102940 76160 55893 41210 28762 19429 13232 9475 7326 5412 4225 3475 2999 2646 2186 1910 1708 1515 1372 1222 1207 1086 994 845 862 821 722 546 493 431 400 347 320 211 130 128 121 115 99 66 21 31 26 26 31 19 16 19 16 9 9 17 8 14 9 4 5 5 2 3 4 3 1 1 5 4 6 5 4 2 4 4 4 2 3 2 1 2 1 2 1 1 0 1 2 0 1 0 1 1 0 2 1 1 0 3 0 2 0 0 0 0 1 2 3 1 1 0 1 1 0 1 0 0 0 2 0 1 3 0 0 0 0 1 1 0 1 0 0 1 0 0 0 0 0 0 0 1 1 1 0 1 1 0 0 0 1 0 0 0 1 1 1 0 0 0 0 0 0 0 0 1 2 1 1 0 0 0 0 0 0 0 0 0 0 0 0 0 0 0 1 1 1 0 0 0 0 0 1 0 0 0 0 0 0 0 0 0 0 1 0 0 1 0 2 0 0 0 0 0 0 0 0 0 0 0 0 1 1 0 0 0 0 1 0 0 1 0 0 12 \n",
      "  Overviews: 5490x5490, 2745x2745, 1373x1373, 687x687\n",
      "  Overviews: arbitrary\n",
      "  Metadata:\n",
      "    STATISTICS_MAXIMUM=28000\n",
      "    STATISTICS_MEAN=971.46829930889\n",
      "    STATISTICS_MINIMUM=1\n",
      "    STATISTICS_STDDEV=401.84192528927\n",
      "    STATISTICS_VALID_PERCENT=100\n",
      "  Image Structure Metadata:\n",
      "    COMPRESSION=JPEG2000\n",
      "    NBITS=15\n"
     ]
    }
   ],
   "source": [
    "!gdalinfo -stats -hist T30UVG_20190227T113311_B04.jp2"
   ]
  },
  {
   "cell_type": "code",
   "execution_count": 31,
   "metadata": {},
   "outputs": [],
   "source": [
    "# # Create a three-band GeoTIFF with same properties as red band\n",
    "# gtiff_driver = gdal.GetDriverByName('GTiff')\n",
    "# rgb_out = gtiff_driver.Create('lab1_d.tif',in_red_band_.XSize, in_red_band_.YSize, 3, in_red_band_.DataType)\n",
    "# rgb_out.SetProjection(red_band_.GetProjection())\n",
    "# rgb_out.SetGeoTransform(red_band_.GetGeoTransform())"
   ]
  },
  {
   "cell_type": "code",
   "execution_count": 32,
   "metadata": {},
   "outputs": [],
   "source": [
    "def createMultiLayerRaster(src_band, src_dataset, number_of_layers, target_path, driver_name='GTiff'):\n",
    "    driver = gdal.GetDriverByName(driver_name)\n",
    "    out = driver.Create(target_path, src_band.XSize, src_band.YSize, number_of_layers, src_band.DataType)\n",
    "    out.SetProjection(src_dataset.GetProjection())\n",
    "    out.SetGeoTransform(src_dataset.GetGeoTransform())\n",
    "    return driver, out"
   ]
  },
  {
   "cell_type": "code",
   "execution_count": 33,
   "metadata": {},
   "outputs": [],
   "source": [
    "driver, out = createMultiLayerRaster(in_red_band_, red_band_, 3, 'lab1_d.tif')"
   ]
  },
  {
   "cell_type": "code",
   "execution_count": 34,
   "metadata": {},
   "outputs": [
    {
     "name": "stdout",
     "output_type": "stream",
     "text": [
      " Volume in drive C has no label.\n",
      " Volume Serial Number is 4639-2019\n",
      "\n",
      " Directory of C:\\Users\\˜rem\\Desktop\\2d”nem\\S2A_MSIL1C_20190227T113311_N0207_R080_T30UVG_20190227T133051.SAFE\\GRANULE\\L1C_T30UVG_A019239_20190227T113314\\IMG_DATA\n",
      "\n",
      "03.04.2020  20:11    <DIR>          .\n",
      "03.04.2020  20:11    <DIR>          ..\n",
      "03.04.2020  20:11                 0 lab1_d.tif\n",
      "27.02.2019  12:51         3,540,155 T30UVG_20190227T113311_B01.jp2\n",
      "27.02.2019  12:52       101,833,058 T30UVG_20190227T113311_B02.jp2\n",
      "27.02.2019  12:52       106,251,275 T30UVG_20190227T113311_B03.jp2\n",
      "02.04.2020  22:08             3,132 T30UVG_20190227T113311_B03.jp2.aux.xml\n",
      "27.02.2019  12:52       111,786,579 T30UVG_20190227T113311_B04.jp2\n",
      "03.04.2020  20:11             4,191 T30UVG_20190227T113311_B04.jp2.aux.xml\n",
      "27.02.2019  12:51        33,596,702 T30UVG_20190227T113311_B05.jp2\n",
      "27.02.2019  12:51        33,720,880 T30UVG_20190227T113311_B06.jp2\n",
      "27.02.2019  12:51        33,911,415 T30UVG_20190227T113311_B07.jp2\n",
      "27.02.2019  12:53       135,241,867 T30UVG_20190227T113311_B08.jp2\n",
      "27.02.2019  12:51         3,769,313 T30UVG_20190227T113311_B09.jp2\n",
      "27.02.2019  12:51         2,216,024 T30UVG_20190227T113311_B10.jp2\n",
      "27.02.2019  12:51        33,729,685 T30UVG_20190227T113311_B11.jp2\n",
      "27.02.2019  12:51        33,377,949 T30UVG_20190227T113311_B12.jp2\n",
      "27.02.2019  12:51        33,728,007 T30UVG_20190227T113311_B8A.jp2\n",
      "27.02.2019  12:53       135,235,360 T30UVG_20190227T113311_TCI.jp2\n",
      "              17 File(s)    801,945,592 bytes\n",
      "               2 Dir(s)  37,500,608,512 bytes free\n"
     ]
    }
   ],
   "source": [
    "!dir"
   ]
  },
  {
   "cell_type": "code",
   "execution_count": 35,
   "metadata": {},
   "outputs": [
    {
     "data": {
      "text/plain": [
       "osgeo.gdal.Dataset"
      ]
     },
     "execution_count": 35,
     "metadata": {},
     "output_type": "execute_result"
    }
   ],
   "source": [
    "type(out)"
   ]
  },
  {
   "cell_type": "code",
   "execution_count": 36,
   "metadata": {},
   "outputs": [],
   "source": [
    "def write2dataset(target_dataset, band, band_order):\n",
    "    cache = band.ReadAsArray()\n",
    "    t_dataset = target_dataset.GetRasterBand(band_order)\n",
    "    t_dataset.WriteArray(cache)"
   ]
  },
  {
   "cell_type": "code",
   "execution_count": 37,
   "metadata": {},
   "outputs": [],
   "source": [
    "write2dataset(out, in_blue_band_, 3)\n",
    "write2dataset(out, in_green_band_, 2)\n",
    "write2dataset(out, in_red_band_, 1)"
   ]
  },
  {
   "cell_type": "code",
   "execution_count": 38,
   "metadata": {},
   "outputs": [],
   "source": [
    "out.FlushCache()"
   ]
  },
  {
   "cell_type": "code",
   "execution_count": 39,
   "metadata": {},
   "outputs": [
    {
     "name": "stdout",
     "output_type": "stream",
     "text": [
      " Volume in drive C has no label.\n",
      " Volume Serial Number is 4639-2019\n",
      "\n",
      " Directory of C:\\Users\\˜rem\\Desktop\\2d”nem\\S2A_MSIL1C_20190227T113311_N0207_R080_T30UVG_20190227T133051.SAFE\\GRANULE\\L1C_T30UVG_A019239_20190227T113314\\IMG_DATA\n",
      "\n",
      "03.04.2020  20:11    <DIR>          .\n",
      "03.04.2020  20:11    <DIR>          ..\n",
      "03.04.2020  20:11                 0 lab1_d.tif\n",
      "27.02.2019  12:51         3,540,155 T30UVG_20190227T113311_B01.jp2\n",
      "27.02.2019  12:52       101,833,058 T30UVG_20190227T113311_B02.jp2\n",
      "27.02.2019  12:52       106,251,275 T30UVG_20190227T113311_B03.jp2\n",
      "02.04.2020  22:08             3,132 T30UVG_20190227T113311_B03.jp2.aux.xml\n",
      "27.02.2019  12:52       111,786,579 T30UVG_20190227T113311_B04.jp2\n",
      "03.04.2020  20:11             4,191 T30UVG_20190227T113311_B04.jp2.aux.xml\n",
      "27.02.2019  12:51        33,596,702 T30UVG_20190227T113311_B05.jp2\n",
      "27.02.2019  12:51        33,720,880 T30UVG_20190227T113311_B06.jp2\n",
      "27.02.2019  12:51        33,911,415 T30UVG_20190227T113311_B07.jp2\n",
      "27.02.2019  12:53       135,241,867 T30UVG_20190227T113311_B08.jp2\n",
      "27.02.2019  12:51         3,769,313 T30UVG_20190227T113311_B09.jp2\n",
      "27.02.2019  12:51         2,216,024 T30UVG_20190227T113311_B10.jp2\n",
      "27.02.2019  12:51        33,729,685 T30UVG_20190227T113311_B11.jp2\n",
      "27.02.2019  12:51        33,377,949 T30UVG_20190227T113311_B12.jp2\n",
      "27.02.2019  12:51        33,728,007 T30UVG_20190227T113311_B8A.jp2\n",
      "27.02.2019  12:53       135,235,360 T30UVG_20190227T113311_TCI.jp2\n",
      "              17 File(s)    801,945,592 bytes\n",
      "               2 Dir(s)  36,776,841,216 bytes free\n"
     ]
    }
   ],
   "source": [
    "!dir"
   ]
  },
  {
   "cell_type": "code",
   "execution_count": 40,
   "metadata": {},
   "outputs": [],
   "source": [
    "del out"
   ]
  },
  {
   "cell_type": "code",
   "execution_count": 41,
   "metadata": {},
   "outputs": [],
   "source": [
    "rgb_dataset = gdal.Open('lab1_d.tif')"
   ]
  },
  {
   "cell_type": "code",
   "execution_count": 42,
   "metadata": {},
   "outputs": [
    {
     "data": {
      "text/plain": [
       "'PROJCS[\"WGS 84 / UTM zone 30N\",GEOGCS[\"WGS 84\",DATUM[\"WGS_1984\",SPHEROID[\"WGS 84\",6378137,298.257223563,AUTHORITY[\"EPSG\",\"7030\"]],AUTHORITY[\"EPSG\",\"6326\"]],PRIMEM[\"Greenwich\",0,AUTHORITY[\"EPSG\",\"8901\"]],UNIT[\"degree\",0.0174532925199433,AUTHORITY[\"EPSG\",\"9122\"]],AUTHORITY[\"EPSG\",\"4326\"]],PROJECTION[\"Transverse_Mercator\"],PARAMETER[\"latitude_of_origin\",0],PARAMETER[\"central_meridian\",-3],PARAMETER[\"scale_factor\",0.9996],PARAMETER[\"false_easting\",500000],PARAMETER[\"false_northing\",0],UNIT[\"metre\",1,AUTHORITY[\"EPSG\",\"9001\"]],AXIS[\"Easting\",EAST],AXIS[\"Northing\",NORTH],AUTHORITY[\"EPSG\",\"32630\"]]'"
      ]
     },
     "execution_count": 42,
     "metadata": {},
     "output_type": "execute_result"
    }
   ],
   "source": [
    "rgb_dataset.GetProjection()"
   ]
  },
  {
   "cell_type": "code",
   "execution_count": 43,
   "metadata": {},
   "outputs": [],
   "source": [
    "lab1_geotransform = rgb_dataset.GetGeoTransform()"
   ]
  },
  {
   "cell_type": "code",
   "execution_count": 44,
   "metadata": {},
   "outputs": [
    {
     "data": {
      "text/plain": [
       "((55.62628459033847, -4.4793752097776105), tuple)"
      ]
     },
     "execution_count": 44,
     "metadata": {},
     "output_type": "execute_result"
    }
   ],
   "source": [
    "from pyproj import Transformer\n",
    "import folium\n",
    "transformer = Transformer.from_crs(\"EPSG:32630\", \"EPSG:4326\")\n",
    "converted_coordinates = transformer.transform(406850.0, 6165480.0)\n",
    "converted_coordinates, type(converted_coordinates)"
   ]
  },
  {
   "cell_type": "code",
   "execution_count": 45,
   "metadata": {},
   "outputs": [
    {
     "data": {
      "text/html": [
       "<div style=\"width:100%;\"><div style=\"position:relative;width:100%;height:0;padding-bottom:60%;\"><iframe src=\"about:blank\" style=\"position:absolute;width:100%;height:100%;left:0;top:0;border:none !important;\" data-html=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 onload=\"this.contentDocument.open();this.contentDocument.write(atob(this.getAttribute('data-html')));this.contentDocument.close();\" allowfullscreen webkitallowfullscreen mozallowfullscreen></iframe></div></div>"
      ],
      "text/plain": [
       "<folium.folium.Map at 0x207b1ba6b08>"
      ]
     },
     "execution_count": 45,
     "metadata": {},
     "output_type": "execute_result"
    }
   ],
   "source": [
    "map = folium.Map(location=[55.768362478493096, -4.433741939490194], zoom_start=6, control_scale=True)\n",
    "map"
   ]
  },
  {
   "cell_type": "code",
   "execution_count": 46,
   "metadata": {},
   "outputs": [
    {
     "data": {
      "text/plain": [
       "<folium.map.Marker at 0x207b1bb3f48>"
      ]
     },
     "execution_count": 46,
     "metadata": {},
     "output_type": "execute_result"
    }
   ],
   "source": [
    "tooltip = 'Lab 1'\n",
    "\n",
    "folium.Marker(converted_coordinates, popup='HU Geomatics', tooltip=tooltip).add_to(map)\n",
    "folium.Marker([55.934888382488445, -4.600618347564519], popup='1', tooltip=tooltip).add_to(map)\n",
    "folium.Marker([55.62628459033847, -4.4793752097776105], popup='2', tooltip=tooltip).add_to(map)\n",
    "folium.Marker([55.927366010058584, -4.591664848002466], popup='3', tooltip=tooltip).add_to(map)\n",
    "folium.Marker([55.874529620250314, -4.556254806107688], popup='4', tooltip=tooltip).add_to(map)\n",
    "folium.Marker([55.768362478493096, -4.433741939490194], popup='5', tooltip=tooltip).add_to(map)\n",
    "folium.Marker([55.741730180219825, -3.9795805444154966], popup='6', tooltip=tooltip).add_to(map)\n",
    "folium.Marker([55.197541209334176, -3.3504900514775238], popup='7', tooltip=tooltip).add_to(map)\n",
    "folium.Marker([55.27311282426315, -3.2817424535619493], popup='8', tooltip=tooltip).add_to(map)\n",
    "folium.Marker([55.90770176238325, -4.5046300850904935], popup='9', tooltip=tooltip).add_to(map)\n",
    "folium.Marker([55.19669669474524, -3.0050270820344602], popup='10', tooltip=tooltip).add_to(map)"
   ]
  },
  {
   "cell_type": "code",
   "execution_count": 48,
   "metadata": {},
   "outputs": [
    {
     "data": {
      "text/html": [
       "<div style=\"width:100%;\"><div style=\"position:relative;width:100%;height:0;padding-bottom:60%;\"><iframe src=\"about:blank\" style=\"position:absolute;width:100%;height:100%;left:0;top:0;border:none !important;\" data-html=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 onload=\"this.contentDocument.open();this.contentDocument.write(atob(this.getAttribute('data-html')));this.contentDocument.close();\" allowfullscreen webkitallowfullscreen mozallowfullscreen></iframe></div></div>"
      ],
      "text/plain": [
       "<folium.folium.Map at 0x207b1ba6b08>"
      ]
     },
     "execution_count": 48,
     "metadata": {},
     "output_type": "execute_result"
    }
   ],
   "source": [
    "map"
   ]
  },
  {
   "cell_type": "code",
   "execution_count": null,
   "metadata": {},
   "outputs": [],
   "source": []
  }
 ],
 "metadata": {
  "kernelspec": {
   "display_name": "Python 3",
   "language": "python",
   "name": "python3"
  },
  "language_info": {
   "codemirror_mode": {
    "name": "ipython",
    "version": 3
   },
   "file_extension": ".py",
   "mimetype": "text/x-python",
   "name": "python",
   "nbconvert_exporter": "python",
   "pygments_lexer": "ipython3",
   "version": "3.7.6"
  }
 },
 "nbformat": 4,
 "nbformat_minor": 4
}
